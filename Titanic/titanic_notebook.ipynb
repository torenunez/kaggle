{
 "cells": [
  {
   "cell_type": "markdown",
   "metadata": {},
   "source": [
    "# Introduction\n",
    "\n",
    "In 1912, the ship RMS Titanic struck an iceberg on its maiden voyage and sank, resulting in the deaths of most of its passengers and crew. "
   ]
  },
  {
   "cell_type": "markdown",
   "metadata": {},
   "source": [
    "### Further Resources and References\n",
    "\n",
    "Manual Exploration was taken from an Udacity Project:\n",
    "\n",
    "https://github.com/torenunez/machine-learning/blob/master/projects/titanic_survival_exploration/titanic_survival_exploration.ipynb\n",
    "\n",
    "\n",
    "Pre-processing and modeling taken from francksylla's Kaggle Kernel: \n",
    "\n",
    "https://www.kaggle.com/francksylla/titanic/titanic-machine-learning-from-disaster\n",
    "\n",
    "\n",
    "Feature importance taken from rdcsung's Kaggle Kernel:\n",
    "\n",
    "https://www.kaggle.com/rdcsung/titanic/an-interactive-data-science-tutorial\n",
    "\n",
    "\n"
   ]
  },
  {
   "cell_type": "markdown",
   "metadata": {},
   "source": [
    "# Setup"
   ]
  },
  {
   "cell_type": "code",
   "execution_count": 1,
   "metadata": {
    "collapsed": false
   },
   "outputs": [],
   "source": [
    "import re\n",
    "import operator\n",
    "\n",
    "import numpy as np\n",
    "import pandas as pd\n",
    "\n",
    "from sklearn import cross_validation\n",
    "from sklearn.ensemble import RandomForestClassifier, ExtraTreesRegressor\n",
    "from sklearn.feature_selection import SelectKBest, f_classif\n",
    "from sklearn.grid_search import GridSearchCV\n",
    "from sklearn.metrics import accuracy_score, make_scorer\n",
    "\n",
    "import matplotlib.pyplot as plt\n",
    "\n",
    "%matplotlib inline\n",
    "plt.style.use('ggplot') \n"
   ]
  },
  {
   "cell_type": "code",
   "execution_count": 2,
   "metadata": {
    "collapsed": true
   },
   "outputs": [],
   "source": [
    "train = pd.read_csv(\"input/train.csv\", dtype={\"Age\": np.float64})\n",
    "test  = pd.read_csv(\"input/test.csv\", dtype={\"Age\": np.float64})"
   ]
  },
  {
   "cell_type": "markdown",
   "metadata": {},
   "source": [
    "# Manual Exploration"
   ]
  },
  {
   "cell_type": "markdown",
   "metadata": {},
   "source": [
    "From a sample of the RMS Titanic data, we can see the various features present for each passenger on the ship:\n",
    "- **Survived**: Outcome of survival (0 = No; 1 = Yes)\n",
    "- **Pclass**: Socio-economic class (1 = Upper class; 2 = Middle class; 3 = Lower class)\n",
    "- **Name**: Name of passenger\n",
    "- **Sex**: Sex of the passenger\n",
    "- **Age**: Age of the passenger (Some entries contain `NaN`)\n",
    "- **SibSp**: Number of siblings and spouses of the passenger aboard\n",
    "- **Parch**: Number of parents and children of the passenger aboard\n",
    "- **Ticket**: Ticket number of the passenger\n",
    "- **Fare**: Fare paid by the passenger\n",
    "- **Cabin** Cabin number of the passenger (Some entries contain `NaN`)\n",
    "- **Embarked**: Port of embarkation of the passenger (C = Cherbourg; Q = Queenstown; S = Southampton)\n",
    "\n",
    "Since we're interested in the outcome of survival for each passenger or crew member, we can remove the **Survived** feature from this dataset and store it as its own separate variable `outcomes`. We will use these outcomes as our prediction targets.  \n",
    "Run the code cell below to remove **Survived** as a feature of the dataset and store it in `outcomes`."
   ]
  },
  {
   "cell_type": "code",
   "execution_count": 3,
   "metadata": {
    "collapsed": false
   },
   "outputs": [
    {
     "data": {
      "text/html": [
       "<div>\n",
       "<table border=\"1\" class=\"dataframe\">\n",
       "  <thead>\n",
       "    <tr style=\"text-align: right;\">\n",
       "      <th></th>\n",
       "      <th>PassengerId</th>\n",
       "      <th>Survived</th>\n",
       "      <th>Pclass</th>\n",
       "      <th>Name</th>\n",
       "      <th>Sex</th>\n",
       "      <th>Age</th>\n",
       "      <th>SibSp</th>\n",
       "      <th>Parch</th>\n",
       "      <th>Ticket</th>\n",
       "      <th>Fare</th>\n",
       "      <th>Cabin</th>\n",
       "      <th>Embarked</th>\n",
       "    </tr>\n",
       "  </thead>\n",
       "  <tbody>\n",
       "    <tr>\n",
       "      <th>0</th>\n",
       "      <td>1</td>\n",
       "      <td>0</td>\n",
       "      <td>3</td>\n",
       "      <td>Braund, Mr. Owen Harris</td>\n",
       "      <td>male</td>\n",
       "      <td>22.0</td>\n",
       "      <td>1</td>\n",
       "      <td>0</td>\n",
       "      <td>A/5 21171</td>\n",
       "      <td>7.2500</td>\n",
       "      <td>NaN</td>\n",
       "      <td>S</td>\n",
       "    </tr>\n",
       "    <tr>\n",
       "      <th>1</th>\n",
       "      <td>2</td>\n",
       "      <td>1</td>\n",
       "      <td>1</td>\n",
       "      <td>Cumings, Mrs. John Bradley (Florence Briggs Th...</td>\n",
       "      <td>female</td>\n",
       "      <td>38.0</td>\n",
       "      <td>1</td>\n",
       "      <td>0</td>\n",
       "      <td>PC 17599</td>\n",
       "      <td>71.2833</td>\n",
       "      <td>C85</td>\n",
       "      <td>C</td>\n",
       "    </tr>\n",
       "    <tr>\n",
       "      <th>2</th>\n",
       "      <td>3</td>\n",
       "      <td>1</td>\n",
       "      <td>3</td>\n",
       "      <td>Heikkinen, Miss. Laina</td>\n",
       "      <td>female</td>\n",
       "      <td>26.0</td>\n",
       "      <td>0</td>\n",
       "      <td>0</td>\n",
       "      <td>STON/O2. 3101282</td>\n",
       "      <td>7.9250</td>\n",
       "      <td>NaN</td>\n",
       "      <td>S</td>\n",
       "    </tr>\n",
       "    <tr>\n",
       "      <th>3</th>\n",
       "      <td>4</td>\n",
       "      <td>1</td>\n",
       "      <td>1</td>\n",
       "      <td>Futrelle, Mrs. Jacques Heath (Lily May Peel)</td>\n",
       "      <td>female</td>\n",
       "      <td>35.0</td>\n",
       "      <td>1</td>\n",
       "      <td>0</td>\n",
       "      <td>113803</td>\n",
       "      <td>53.1000</td>\n",
       "      <td>C123</td>\n",
       "      <td>S</td>\n",
       "    </tr>\n",
       "    <tr>\n",
       "      <th>4</th>\n",
       "      <td>5</td>\n",
       "      <td>0</td>\n",
       "      <td>3</td>\n",
       "      <td>Allen, Mr. William Henry</td>\n",
       "      <td>male</td>\n",
       "      <td>35.0</td>\n",
       "      <td>0</td>\n",
       "      <td>0</td>\n",
       "      <td>373450</td>\n",
       "      <td>8.0500</td>\n",
       "      <td>NaN</td>\n",
       "      <td>S</td>\n",
       "    </tr>\n",
       "  </tbody>\n",
       "</table>\n",
       "</div>"
      ],
      "text/plain": [
       "   PassengerId  Survived  Pclass  \\\n",
       "0            1         0       3   \n",
       "1            2         1       1   \n",
       "2            3         1       3   \n",
       "3            4         1       1   \n",
       "4            5         0       3   \n",
       "\n",
       "                                                Name     Sex   Age  SibSp  \\\n",
       "0                            Braund, Mr. Owen Harris    male  22.0      1   \n",
       "1  Cumings, Mrs. John Bradley (Florence Briggs Th...  female  38.0      1   \n",
       "2                             Heikkinen, Miss. Laina  female  26.0      0   \n",
       "3       Futrelle, Mrs. Jacques Heath (Lily May Peel)  female  35.0      1   \n",
       "4                           Allen, Mr. William Henry    male  35.0      0   \n",
       "\n",
       "   Parch            Ticket     Fare Cabin Embarked  \n",
       "0      0         A/5 21171   7.2500   NaN        S  \n",
       "1      0          PC 17599  71.2833   C85        C  \n",
       "2      0  STON/O2. 3101282   7.9250   NaN        S  \n",
       "3      0            113803  53.1000  C123        S  \n",
       "4      0            373450   8.0500   NaN        S  "
      ]
     },
     "execution_count": 3,
     "metadata": {},
     "output_type": "execute_result"
    }
   ],
   "source": [
    "# Peak at the top of the data\n",
    "train.head()"
   ]
  },
  {
   "cell_type": "code",
   "execution_count": 4,
   "metadata": {
    "collapsed": false
   },
   "outputs": [
    {
     "name": "stdout",
     "output_type": "stream",
     "text": [
      "(891, 12)\n"
     ]
    },
    {
     "name": "stderr",
     "output_type": "stream",
     "text": [
      "/home/torenunez/anaconda3/lib/python3.5/site-packages/numpy/lib/function_base.py:3834: RuntimeWarning: Invalid value encountered in percentile\n",
      "  RuntimeWarning)\n"
     ]
    },
    {
     "data": {
      "text/plain": [
       "PassengerId    891\n",
       "Survived       891\n",
       "Pclass         891\n",
       "Name           891\n",
       "Sex            891\n",
       "Age            714\n",
       "SibSp          891\n",
       "Parch          891\n",
       "Ticket         891\n",
       "Fare           891\n",
       "Cabin          204\n",
       "Embarked       889\n",
       "dtype: int64"
      ]
     },
     "execution_count": 4,
     "metadata": {},
     "output_type": "execute_result"
    }
   ],
   "source": [
    "print(train.shape)\n",
    "train.describe()\n",
    "train.count()"
   ]
  },
  {
   "cell_type": "code",
   "execution_count": 5,
   "metadata": {
    "collapsed": false
   },
   "outputs": [
    {
     "data": {
      "text/html": [
       "<div>\n",
       "<table border=\"1\" class=\"dataframe\">\n",
       "  <thead>\n",
       "    <tr style=\"text-align: right;\">\n",
       "      <th>Sex</th>\n",
       "      <th>female</th>\n",
       "      <th>male</th>\n",
       "    </tr>\n",
       "    <tr>\n",
       "      <th>Survived</th>\n",
       "      <th></th>\n",
       "      <th></th>\n",
       "    </tr>\n",
       "  </thead>\n",
       "  <tbody>\n",
       "    <tr>\n",
       "      <th>0</th>\n",
       "      <td>81</td>\n",
       "      <td>468</td>\n",
       "    </tr>\n",
       "    <tr>\n",
       "      <th>1</th>\n",
       "      <td>233</td>\n",
       "      <td>109</td>\n",
       "    </tr>\n",
       "  </tbody>\n",
       "</table>\n",
       "</div>"
      ],
      "text/plain": [
       "Sex       female  male\n",
       "Survived              \n",
       "0             81   468\n",
       "1            233   109"
      ]
     },
     "execution_count": 5,
     "metadata": {},
     "output_type": "execute_result"
    }
   ],
   "source": [
    "pd.crosstab(train['Survived'], train['Sex'])"
   ]
  },
  {
   "cell_type": "code",
   "execution_count": 6,
   "metadata": {
    "collapsed": false
   },
   "outputs": [
    {
     "data": {
      "text/plain": [
       "Sex     Pclass\n",
       "female  1         0.968085\n",
       "        2         0.921053\n",
       "        3         0.500000\n",
       "male    1         0.368852\n",
       "        2         0.157407\n",
       "        3         0.135447\n",
       "Name: Survived, dtype: float64"
      ]
     },
     "execution_count": 6,
     "metadata": {},
     "output_type": "execute_result"
    }
   ],
   "source": [
    "sex_class = train.groupby(['Sex', 'Pclass'])\n",
    "sex_class.mean()['Survived']"
   ]
  },
  {
   "cell_type": "code",
   "execution_count": 7,
   "metadata": {
    "collapsed": false
   },
   "outputs": [],
   "source": [
    "def age_hist(df,title=None):\n",
    "    \n",
    "    bins = np.arange(0, df['Age'].max() + 10, 10)\n",
    "\n",
    "    key = 'Age'\n",
    "    nonsurv_vals = df[df['Survived'] == 0][key].reset_index(drop = True).dropna()\n",
    "    surv_vals = df[df['Survived'] == 1][key].reset_index(drop = True).dropna()\n",
    "\n",
    "    plt.hist(nonsurv_vals, bins = bins, alpha = 0.5, color = 'red', label = 'Did not survive')\n",
    "    plt.hist(surv_vals, bins = bins, alpha = 0.5, color = 'green', label = 'Survived')\n",
    "    \n",
    "    if title:\n",
    "        plt.title(title)\n",
    "    \n",
    "    plt.xlim(0, bins.max())\n",
    "    plt.legend(framealpha = 0.8)"
   ]
  },
  {
   "cell_type": "code",
   "execution_count": 8,
   "metadata": {
    "collapsed": false
   },
   "outputs": [
    {
     "data": {
      "image/png": "[encoded data removed]",
      "text/plain": [
       "<matplotlib.figure.Figure at 0x7f3f2cc53198>"
      ]
     },
     "metadata": {},
     "output_type": "display_data"
    }
   ],
   "source": [
    "ma=train['Sex']=='male'\n",
    "c1=train['Pclass']==1\n",
    "ma_c1_df=train[ma&c1]\n",
    "age_hist(ma_c1_df, '1st Class Male Survival by Age')"
   ]
  },
  {
   "cell_type": "code",
   "execution_count": 9,
   "metadata": {
    "collapsed": false
   },
   "outputs": [
    {
     "data": {
      "image/png": "[encoded data removed]",
      "text/plain": [
       "<matplotlib.figure.Figure at 0x7f3f29b1f978>"
      ]
     },
     "metadata": {},
     "output_type": "display_data"
    }
   ],
   "source": [
    "fem=train['Sex']=='female'\n",
    "c3=train['Pclass']==3\n",
    "fem_c3_df = train[fem&c3]\n",
    "age_hist(fem_c3_df, '3rd Class Female Survival by Age')"
   ]
  },
  {
   "cell_type": "code",
   "execution_count": 10,
   "metadata": {
    "collapsed": false,
    "scrolled": true
   },
   "outputs": [
    {
     "data": {
      "text/plain": [
       "<matplotlib.axes._subplots.AxesSubplot at 0x7f3f295c56a0>"
      ]
     },
     "execution_count": 10,
     "metadata": {},
     "output_type": "execute_result"
    },
    {
     "data": {
      "image/png": "[encoded data removed]",
      "text/plain": [
       "<matplotlib.figure.Figure at 0x7f3f29b31c18>"
      ]
     },
     "metadata": {},
     "output_type": "display_data"
    }
   ],
   "source": [
    "fem_c3_by_parch_df = pd.crosstab(fem_c3_df['Parch'], fem_c3_df['Survived'])\n",
    "fem_c3_by_parch_df.plot.bar(color = ['r','g'], \n",
    "                            title = '3rd Class Female Survival by \\n Number of Parents and Children (Parch)')"
   ]
  },
  {
   "cell_type": "code",
   "execution_count": 11,
   "metadata": {
    "collapsed": true
   },
   "outputs": [],
   "source": [
    "def manual_tree(data):\n",
    "    \n",
    "    predictions = []\n",
    "    for _, passenger in data.iterrows():\n",
    "        \n",
    "        if passenger['Sex']=='female':\n",
    "            if passenger['Pclass'] ==3:\n",
    "                if passenger['Age'] > 30 and passenger['Age'] < 60:\n",
    "                    three = 0\n",
    "                elif passenger['Parch'] > 1:\n",
    "                    three = 0\n",
    "                else:\n",
    "                    three = 1\n",
    "            else:\n",
    "                three = 1\n",
    "        else:\n",
    "            if passenger['Age'] < 10:\n",
    "                three = 1\n",
    "            elif passenger['Age'] > 30 and passenger['Age'] < 40:\n",
    "                if passenger['Pclass'] == 1:\n",
    "                    three = 1\n",
    "                else:\n",
    "                    three = 0\n",
    "            else:\n",
    "                three = 0\n",
    "\n",
    "        predictions.append(three)\n",
    "\n",
    "    return pd.Series(predictions)"
   ]
  },
  {
   "cell_type": "code",
   "execution_count": 12,
   "metadata": {
    "collapsed": false
   },
   "outputs": [
    {
     "name": "stdout",
     "output_type": "stream",
     "text": [
      "Manual accuracy: 0.816\n"
     ]
    }
   ],
   "source": [
    "y_pred1 = manual_tree(train)\n",
    "target = train[\"Survived\"].values \n",
    "\n",
    "manual_accuracy = accuracy_score(y_pred1, target)\n",
    "\n",
    "print(\"Manual accuracy: {:1.3f}\".format(manual_accuracy))"
   ]
  },
  {
   "cell_type": "markdown",
   "metadata": {},
   "source": [
    "# Feature Engineering"
   ]
  },
  {
   "cell_type": "markdown",
   "metadata": {},
   "source": [
    "### Define Feature Transformations"
   ]
  },
  {
   "cell_type": "code",
   "execution_count": 14,
   "metadata": {
    "collapsed": false
   },
   "outputs": [],
   "source": [
    "def get_surname(df):\n",
    "    df['surname'] = df[\"Name\"].apply(lambda x: x.split(',')[0].lower())\n",
    "    return df\n",
    "\n",
    "def set_title(df):\n",
    "    df[\"Title\"] = df[\"Name\"].apply(lambda x: re.search(' ([A-Za-z]+)\\.',x).group(1))\n",
    "    title_mapping = {\"Mr\": 1, \"Miss\": 2, \"Mrs\": 3, \"Master\": 4, \"Dr\": 5, \"Rev\": 6, \"Major\": 7, \"Col\": 7, \"Mlle\": 2, \"Mme\": 3,\"Don\": 9,\"Dona\": 9, \"Lady\": 10, \"Countess\": 10, \"Jonkheer\": 10, \"Sir\": 9, \"Capt\": 7, \"Ms\": 2}\n",
    "    df[\"TitleCat\"] = df.loc[:,'Title'].map(title_mapping)\n",
    "    return df\n",
    "\n",
    "def set_family_size(df):\n",
    "    df[\"FamilySize\"] = df[\"SibSp\"] + df[\"Parch\"] + 1\n",
    "    df[\"FamilySize\"] = pd.cut(df[\"FamilySize\"], bins=[0,1,4,20], labels=[0,1,2])\n",
    "    return df\n",
    "\n",
    "def set_name_length(df):\n",
    "    df[\"NameLength\"] = df[\"Name\"].apply(lambda x: len(x))\n",
    "    return df\n",
    "    \n",
    "def set_embarked(df):\n",
    "    df[\"Embarked\"] = pd.Categorical.from_array(df.Embarked).codes\n",
    "    return df\n",
    "    \n",
    "def set_fare(df):\n",
    "    df[\"Fare\"] = df[\"Fare\"].fillna(8.05)\n",
    "    return df\n",
    "    \n",
    "def set_type_cabin(cabin):\n",
    "    # Use a regular expression to search for a title. \n",
    "    cabin_search = re.search('\\d+', cabin)\n",
    "    # If the title exists, extract and return it.\n",
    "    if cabin_search:\n",
    "        num = cabin_search.group(0)\n",
    "        if np.float64(num) % 2 == 0:\n",
    "            return '2'\n",
    "        else:\n",
    "            return '1'\n",
    "    return '0'\n",
    "\n",
    "def set_cabin(df):\n",
    "    df = pd.concat([df,pd.get_dummies(df['Sex'])],axis=1)\n",
    "    df['CabinCat'] = pd.Categorical.from_array(df.Cabin.fillna('0').apply(lambda x: x[0])).codes\n",
    "    df[\"Cabin\"] = df[\"Cabin\"].fillna(\" \")\n",
    "    df[\"CabinType\"] = df[\"Cabin\"].apply(set_type_cabin)\n",
    "    return df\n",
    "\n",
    "def set_person(passenger,child_age=18):\n",
    "    age, sex = passenger\n",
    "    if (age < child_age):\n",
    "        return 'child'\n",
    "    elif (sex == 'female'):\n",
    "        return 'female_adult'\n",
    "    else:\n",
    "        return 'male_adult'\n",
    "\n",
    "def set_childfemale_adultmale(df):\n",
    "    df = pd.concat([df, pd.DataFrame(df[['Age', 'Sex']].apply(set_person, axis=1), columns=['person'])],axis=1)\n",
    "    df = pd.concat([df,pd.get_dummies(df['person'])],axis=1)\n",
    "    return df\n",
    "    "
   ]
  },
  {
   "cell_type": "code",
   "execution_count": 15,
   "metadata": {
    "collapsed": false
   },
   "outputs": [],
   "source": [
    "def set_ticket_features(df):\n",
    "    table_ticket = pd.DataFrame(df[\"Ticket\"].value_counts())\n",
    "    table_ticket.rename(columns={'Ticket':'Ticket_Members'}, inplace=True)\n",
    "\n",
    "    table_ticket['Ticket_perishing_women'] = df.Ticket[(df.female_adult == 1.0) \n",
    "                                        & (df.Survived == 0.0) \n",
    "                                        & ((df.Parch > 0) | (df.SibSp > 0))].value_counts()\n",
    "    table_ticket['Ticket_perishing_women'] = table_ticket['Ticket_perishing_women'].fillna(0)\n",
    "    table_ticket['Ticket_perishing_women'][table_ticket['Ticket_perishing_women'] > 0] = 1.0 \n",
    "\n",
    "    table_ticket['Ticket_surviving_men'] = df.Ticket[(df.male_adult == 1.0) \n",
    "                                        & (df.Survived == 1.0) \n",
    "                                        & ((df.Parch > 0) | (df.SibSp > 0))].value_counts()\n",
    "    table_ticket['Ticket_surviving_men'] = table_ticket['Ticket_surviving_men'].fillna(0)\n",
    "    table_ticket['Ticket_surviving_men'][table_ticket['Ticket_surviving_men'] > 0] = 1.0 \n",
    "\n",
    "    table_ticket[\"Ticket_Id\"]= pd.Categorical.from_array(table_ticket.index).codes\n",
    "    # compress under 3 members into one code.\n",
    "    table_ticket[\"Ticket_Id\"][table_ticket[\"Ticket_Members\"] < 3 ] = -1\n",
    "    table_ticket[\"Ticket_Members\"] = pd.cut(table_ticket[\"Ticket_Members\"], bins=[0,1,4,20], labels=[0,1,2])\n",
    "\n",
    "    df = pd.merge(df, table_ticket, left_on=\"Ticket\",right_index=True,how='left', sort=False)\n",
    "    return df"
   ]
  },
  {
   "cell_type": "code",
   "execution_count": 16,
   "metadata": {
    "collapsed": false
   },
   "outputs": [],
   "source": [
    "def set_surname_features(df):\n",
    "    table_surname = pd.DataFrame(df[\"surname\"].value_counts())\n",
    "    table_surname.rename(columns={'surname':'Surname_Members'}, inplace=True)\n",
    "\n",
    "    table_surname['Surname_perishing_women'] = df.surname[(df.female_adult == 1.0) \n",
    "                                        & (df.Survived == 0.0) \n",
    "                                        & ((df.Parch > 0) | (df.SibSp > 0))].value_counts()\n",
    "    table_surname['Surname_perishing_women'] = table_surname['Surname_perishing_women'].fillna(0)\n",
    "    table_surname['Surname_perishing_women'][table_surname['Surname_perishing_women'] > 0] = 1.0 \n",
    "\n",
    "    table_surname['Surname_surviving_men'] = df.surname[(df.male_adult == 1.0) \n",
    "                                        & (df.Survived == 1.0) \n",
    "                                        & ((df.Parch > 0) | (df.SibSp > 0))].value_counts()\n",
    "    table_surname['Surname_surviving_men'] = table_surname['Surname_surviving_men'].fillna(0)\n",
    "    table_surname['Surname_surviving_men'][table_surname['Surname_surviving_men'] > 0] = 1.0 \n",
    "\n",
    "    table_surname[\"Surname_Id\"]= pd.Categorical.from_array(table_surname.index).codes\n",
    "    # compress under 3 members into one code.\n",
    "    table_surname[\"Surname_Id\"][table_surname[\"Surname_Members\"] < 3 ] = -1\n",
    "\n",
    "    table_surname[\"Surname_Members\"] = pd.cut(table_surname[\"Surname_Members\"], bins=[0,1,4,20], labels=[0,1,2])\n",
    "\n",
    "    df = pd.merge(df, table_surname, left_on=\"surname\",right_index=True,how='left', sort=False)\n",
    "    \n",
    "    return df"
   ]
  },
  {
   "cell_type": "code",
   "execution_count": 17,
   "metadata": {
    "collapsed": false
   },
   "outputs": [],
   "source": [
    "def set_missing_ages(df):\n",
    "    classers = ['Fare','Parch','Pclass','SibSp','TitleCat', \n",
    "    'CabinCat','female','male', 'Embarked', 'FamilySize', 'NameLength','Ticket_Members','Ticket_Id']\n",
    "    etr = ExtraTreesRegressor(n_estimators=200)\n",
    "    X_train = df[classers][df['Age'].notnull()]\n",
    "    Y_train = df['Age'][df['Age'].notnull()]\n",
    "    X_test = df[classers][df['Age'].isnull()]\n",
    "    etr.fit(X_train,np.ravel(Y_train))\n",
    "    age_preds = etr.predict(X_test)\n",
    "    df['Age'][df['Age'].isnull()] = age_preds\n",
    "    return df"
   ]
  },
  {
   "cell_type": "code",
   "execution_count": 18,
   "metadata": {
    "collapsed": true
   },
   "outputs": [],
   "source": [
    "def transform_features(df):\n",
    "    df = get_surname(df)\n",
    "    df = set_title(df)\n",
    "    df = set_family_size(df)\n",
    "    df = set_name_length(df)\n",
    "    df = set_embarked(df)\n",
    "    df = set_fare(df)\n",
    "    df = set_cabin(df)\n",
    "    df = set_childfemale_adultmale(df)\n",
    "    df = set_ticket_features(df)\n",
    "    df = set_surname_features(df)\n",
    "    df = set_missing_ages(df)\n",
    "    return df"
   ]
  },
  {
   "cell_type": "markdown",
   "metadata": {},
   "source": [
    "### Transform dataset"
   ]
  },
  {
   "cell_type": "code",
   "execution_count": 19,
   "metadata": {
    "collapsed": false
   },
   "outputs": [
    {
     "name": "stdout",
     "output_type": "stream",
     "text": [
      "(891, 12)\n",
      "(418, 11)\n",
      "(1309, 12)\n"
     ]
    },
    {
     "name": "stderr",
     "output_type": "stream",
     "text": [
      "/home/torenunez/anaconda3/lib/python3.5/site-packages/ipykernel/__main__.py:9: SettingWithCopyWarning: \n",
      "A value is trying to be set on a copy of a slice from a DataFrame\n",
      "\n",
      "See the caveats in the documentation: http://pandas.pydata.org/pandas-docs/stable/indexing.html#indexing-view-versus-copy\n",
      "/home/torenunez/anaconda3/lib/python3.5/site-packages/ipykernel/__main__.py:15: SettingWithCopyWarning: \n",
      "A value is trying to be set on a copy of a slice from a DataFrame\n",
      "\n",
      "See the caveats in the documentation: http://pandas.pydata.org/pandas-docs/stable/indexing.html#indexing-view-versus-copy\n",
      "/home/torenunez/anaconda3/lib/python3.5/site-packages/ipykernel/__main__.py:19: SettingWithCopyWarning: \n",
      "A value is trying to be set on a copy of a slice from a DataFrame\n",
      "\n",
      "See the caveats in the documentation: http://pandas.pydata.org/pandas-docs/stable/indexing.html#indexing-view-versus-copy\n"
     ]
    },
    {
     "name": "stdout",
     "output_type": "stream",
     "text": [
      "(1309, 33)\n",
      "Index(['Age', 'Cabin', 'Embarked', 'Fare', 'Name', 'Parch', 'PassengerId',\n",
      "       'Pclass', 'Sex', 'SibSp', 'Survived', 'Ticket', 'surname', 'Title',\n",
      "       'TitleCat', 'FamilySize', 'NameLength', 'female', 'male', 'CabinCat',\n",
      "       'CabinType', 'person', 'child', 'female_adult', 'male_adult',\n",
      "       'Ticket_Members', 'Ticket_perishing_women', 'Ticket_surviving_men',\n",
      "       'Ticket_Id', 'Surname_Members', 'Surname_perishing_women',\n",
      "       'Surname_surviving_men', 'Surname_Id'],\n",
      "      dtype='object')\n"
     ]
    },
    {
     "name": "stderr",
     "output_type": "stream",
     "text": [
      "/home/torenunez/anaconda3/lib/python3.5/site-packages/ipykernel/__main__.py:10: SettingWithCopyWarning: \n",
      "A value is trying to be set on a copy of a slice from a DataFrame\n",
      "\n",
      "See the caveats in the documentation: http://pandas.pydata.org/pandas-docs/stable/indexing.html#indexing-view-versus-copy\n"
     ]
    }
   ],
   "source": [
    "full = pd.concat([train, test])\n",
    "print(train.shape)\n",
    "print(test.shape)\n",
    "print(full.shape)\n",
    "\n",
    "full_clean = transform_features(full)\n",
    "print(full_clean.shape)\n",
    "print(full_clean.columns)\n",
    "\n",
    "train_clean = full_clean[0:891].copy()\n",
    "test_clean = full_clean[891:].copy()"
   ]
  },
  {
   "cell_type": "markdown",
   "metadata": {},
   "source": [
    "# Training the Model"
   ]
  },
  {
   "cell_type": "code",
   "execution_count": 20,
   "metadata": {
    "collapsed": false
   },
   "outputs": [],
   "source": [
    "features = ['female','male','Age','male_adult','female_adult', 'child','TitleCat', 'Pclass',\n",
    "'Pclass','Ticket_Id','NameLength','CabinType','CabinCat', 'SibSp', 'Parch',\n",
    "'Fare','Embarked','Surname_Members','Ticket_Members','FamilySize',\n",
    "'Ticket_perishing_women','Ticket_surviving_men',\n",
    "'Surname_perishing_women','Surname_surviving_men']"
   ]
  },
  {
   "cell_type": "code",
   "execution_count": 21,
   "metadata": {
    "collapsed": false
   },
   "outputs": [
    {
     "name": "stdout",
     "output_type": "stream",
     "text": [
      "RandomForestClassifier(bootstrap=True, class_weight={0: 0.5, 1: 0.5},\n",
      "            criterion='gini', max_depth=None, max_features='auto',\n",
      "            max_leaf_nodes=None, min_samples_leaf=1, min_samples_split=4,\n",
      "            min_weight_fraction_leaf=0.0, n_estimators=1800, n_jobs=1,\n",
      "            oob_score=False, random_state=None, verbose=0,\n",
      "            warm_start=False)\n",
      "0.89898989899\n"
     ]
    }
   ],
   "source": [
    "cv = cross_validation.KFold(train_clean.shape[0], n_folds=3, random_state=42)\n",
    "scoring = make_scorer(accuracy_score)\n",
    "rfc = RandomForestClassifier()\n",
    "\n",
    "param_grid = {\n",
    "           'n_estimators': [1600,1800,2000], \n",
    "           'min_samples_split': [4,5,6], \n",
    "           'class_weight':[{0:0.5,1:0.5},{0:0.6,1:0.4},{0:0.7,1:0.3}]\n",
    "               }\n",
    "\n",
    "grid = GridSearchCV(estimator=rfc, param_grid=param_grid, scoring=scoring, cv=cv)\n",
    "\n",
    "grid.fit(train_clean[features], target)\n",
    "\n",
    "print(grid.best_estimator_)\n",
    "print(grid.best_score_)"
   ]
  },
  {
   "cell_type": "code",
   "execution_count": 22,
   "metadata": {
    "collapsed": false
   },
   "outputs": [
    {
     "name": "stdout",
     "output_type": "stream",
     "text": [
      "Grid Search Random Forest Accuracy: 0.972\n"
     ]
    }
   ],
   "source": [
    "g = grid.best_estimator_\n",
    "g.fit(train_clean[features], target)\n",
    "g_accuracy = g.score(train_clean[features], target)\n",
    "print(\"Grid Search Random Forest Accuracy: {:1.3f}\".format(g_accuracy))"
   ]
  },
  {
   "cell_type": "code",
   "execution_count": 23,
   "metadata": {
    "collapsed": false
   },
   "outputs": [
    {
     "data": {
      "text/plain": [
       "<matplotlib.axes._subplots.AxesSubplot at 0x7f3f295b6630>"
      ]
     },
     "execution_count": 23,
     "metadata": {},
     "output_type": "execute_result"
    },
    {
     "data": {
      "image/png": "[encoded data removed]",
      "text/plain": [
       "<matplotlib.figure.Figure at 0x7f3f295b6668>"
      ]
     },
     "metadata": {},
     "output_type": "display_data"
    }
   ],
   "source": [
    "imp = pd.DataFrame( \n",
    "    g.feature_importances_  , \n",
    "    columns = ['Importance'] , \n",
    "    index = train_clean[features].columns \n",
    ")\n",
    "imp = imp.sort_values( [ 'Importance' ] , ascending = True )\n",
    "imp.plot( kind = 'barh', color = 'b', title = 'Feature Importance', figsize =(8,10), legend=False)"
   ]
  },
  {
   "cell_type": "markdown",
   "metadata": {},
   "source": [
    "# Generate Prediction"
   ]
  },
  {
   "cell_type": "code",
   "execution_count": 24,
   "metadata": {
    "collapsed": true
   },
   "outputs": [],
   "source": [
    "PassengerId =np.array(test_clean[\"PassengerId\"]).astype(int)\n",
    "predictions = g.predict(test_clean[features])\n",
    "\n",
    "my_prediction = pd.DataFrame(predictions, PassengerId, columns = [\"Survived\"])\n",
    "my_prediction.to_csv(\"titanic_prediction.csv\", index_label = [\"PassengerId\"])"
   ]
  }
 ],
 "metadata": {
  "anaconda-cloud": {},
  "kernelspec": {
   "display_name": "Python [default]",
   "language": "python",
   "name": "python3"
  },
  "language_info": {
   "codemirror_mode": {
    "name": "ipython",
    "version": 3
   },
   "file_extension": ".py",
   "mimetype": "text/x-python",
   "name": "python",
   "nbconvert_exporter": "python",
   "pygments_lexer": "ipython3",
   "version": "3.5.2"
  }
 },
 "nbformat": 4,
 "nbformat_minor": 0
}
